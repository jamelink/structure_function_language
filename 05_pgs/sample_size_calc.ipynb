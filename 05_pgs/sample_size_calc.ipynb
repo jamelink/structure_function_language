{
 "cells": [
  {
   "cell_type": "code",
   "execution_count": 10,
   "metadata": {},
   "outputs": [
    {
     "name": "stdout",
     "output_type": "stream",
     "text": [
      "ea\n",
      "[765283]\n",
      "adhd\n",
      "[38691, 186843]\n",
      "[128214]\n",
      "asd\n",
      "[18381, 27969]\n",
      "[44367]\n",
      "dys\n",
      "[51800, 1087070]\n",
      "[197776]\n",
      "read\n",
      "[27180]\n",
      "hand\n",
      "[33704, 272673]\n",
      "[119985]\n",
      "scz\n",
      "[67390, 94015]\n",
      "[157013]\n"
     ]
    }
   ],
   "source": [
    "import numpy as np\n",
    "\n",
    "fn = \"/data/workspaces/lag/workspaces/lg-ukbiobank/projects/CONGRADS_rest/gwas_summary/all_sums/{}_eff_N.txt\"\n",
    "\n",
    "def effective_sample_size(ncas, n_total):\n",
    "    return int(round(4 * ncas * (1 - ncas/n_total)))\n",
    "\n",
    "def to_list(in_list, fn):\n",
    "    with open(fn, \"w\") as file:\n",
    "        for row in in_list:\n",
    "            file.write(str(row)+'\\n')\n",
    "\n",
    "\n",
    "N_dict = {\"ea\": [765283],\n",
    "         \"adhd\": [38691, 186843],\n",
    "            \"asd\": [18381, 27969],\n",
    "            \"dys\": [51800, 1087070],\n",
    "            \"read\": [27180],\n",
    "            \"hand\": [33704, 272673],\n",
    "            \"scz\": [67390, 94015] }\n",
    "\n",
    "for k, v in N_dict.items():\n",
    "    print(k)\n",
    "    print(v)\n",
    "    if len(v) == 2:\n",
    "        eff_N = [effective_sample_size(v[0], v[0]+v[1])]\n",
    "        print(eff_N)\n",
    "    else:\n",
    "        eff_N = v\n",
    "    \n",
    "    to_list(eff_N, fn.format(k))"
   ]
  },
  {
   "cell_type": "code",
   "execution_count": null,
   "metadata": {},
   "outputs": [],
   "source": []
  }
 ],
 "metadata": {
  "kernelspec": {
   "display_name": "Python 3",
   "language": "python",
   "name": "python3"
  },
  "language_info": {
   "codemirror_mode": {
    "name": "ipython",
    "version": 3
   },
   "file_extension": ".py",
   "mimetype": "text/x-python",
   "name": "python",
   "nbconvert_exporter": "python",
   "pygments_lexer": "ipython3",
   "version": "3.8.8"
  }
 },
 "nbformat": 4,
 "nbformat_minor": 2
}
