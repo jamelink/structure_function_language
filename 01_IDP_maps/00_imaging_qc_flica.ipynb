{
 "cells": [
  {
   "cell_type": "markdown",
   "id": "24f34b8a-8e4b-4e87-81ca-2d617e144b4c",
   "metadata": {},
   "source": [
    "# QC for FLICA project\n",
    "Initial filtering for FLICA:\n",
    "- Resting state dicom instance 2 not null\n",
    "- Multiband diffusion dicom instance 2 not null\n",
    "\n",
    "Imaging qc:\n",
    "- registration failure in TBM or dMRI (from Sourena)\n",
    "- resting state or diffusion qc metrics (see column names below) outside 5 standard deviations median\n",
    "    \n",
    "Genomic qc:\n",
    "- Genetic sex == reported sex\n",
    "- No sex chromosome aneuploidy\n",
    "- Kinship\n",
    "- Ancestry\n",
    "- Variant QC performed later\n",
    "    - missingness\n",
    "    - HWE\n",
    "\n",
    "Outputs:\n",
    "- subject list that passed QC\n",
    "- covariates genetic analyses dataframe\n",
    "- behavioural phenotypes dataframe\n",
    "\n",
    "\n",
    "TODO:\n",
    "- Finish genetic QC with subject list from Barbara\n",
    "- Make maybe list\n",
    "- Finish covariates\n",
    "- Finish exports\n",
    "\n",
    "Last edit: 2023-11-21, J.S. Amelink"
   ]
  },
  {
   "cell_type": "markdown",
   "id": "b9d2c500-9bc4-450d-97a3-3a3d123fae9d",
   "metadata": {},
   "source": [
    "## 0. Set up"
   ]
  },
  {
   "cell_type": "code",
   "execution_count": 1,
   "id": "bcc8164d-c8fb-440b-af26-8909611b557d",
   "metadata": {},
   "outputs": [],
   "source": [
    "import pandas as pd\n",
    "import os\n",
    "import glob\n",
    "import scipy as sp\n",
    "import numpy as np\n",
    "\n",
    "workspace_path = \"/data/workspaces/lag/workspaces/lg-ukbiobank/projects/FLICA_multimodal/\"\n",
    "cfs_path = \"/data/clusterfs/lag/projects/lg-ukbiobank/working_data/imaging_data/FLICA_multimodal/\"\n",
    "\n",
    "#number of standard deviations for imaging QC\n",
    "no_std = 3.5\n",
    "\n",
    "#columns to do exclusion on:\n",
    "qc_cols = [\n",
    "    #T1\n",
    "    'Amount of warping applied to non-linearly align T1 brain image to standard-space | Instance 2',\n",
    "    'Inverted signal-to-noise ratio in T1 | Instance 2',\n",
    "    \n",
    "    #Resting state\n",
    "    'Inverted temporal signal-to-noise ratio in artefact-cleaned pre-processed rfMRI | Instance 2',\n",
    "    'Mean rfMRI head motion averaged across space and time points | Instance 2',\n",
    "    \n",
    "    #Diffusion\n",
    "    'Number of dMRI outlier slices detected and corrected | Instance 2',\n",
    "    'Standard deviation of apparent translation in the Y axis as measured by eddy | Instance 2',\n",
    " ]"
   ]
  },
  {
   "cell_type": "code",
   "execution_count": 2,
   "id": "c7cf5608-63a2-4462-a799-bc5f0a372493",
   "metadata": {},
   "outputs": [],
   "source": [
    "#load data and adapt labels\n",
    "df = pd.read_csv(os.path.join(workspace_path, 'CONGRADS_FLICA_participant.tsv'), sep=\"\\t\", engine=\"pyarrow\", dtype={\"eid\": np.int64})\n",
    "\n",
    "rename_dict = {\"eid\" : 'Participant ID',\n",
    "               \"p22001\" : \"Genetic sex\",\n",
    "               \"p21003_i2\" : 'Age when attended assessment centre | Instance 2',\n",
    "               \"p25733_i2\" : 'Amount of warping applied to non-linearly align T1 brain image to standard-space | Instance 2',\n",
    "               \"p25756_i2\" : 'Scanner lateral (X) brain position | Instance 2',\n",
    "               \"p25757_i2\" : 'Scanner transverse (Y) brain position | Instance 2',\n",
    "               \"p25758_i2\" : 'Scanner longitudinal (Z) brain position | Instance 2',\n",
    "               \"p25744_i2\" : 'Inverted temporal signal-to-noise ratio in artefact-cleaned pre-processed rfMRI | Instance 2',\n",
    "               \"p25741_i2\" : 'Mean rfMRI head motion averaged across space and time points | Instance 2',\n",
    "               \"p25737_i2\" : 'Discrepancy between dMRI brain image and T1 brain image | Instance 2',\n",
    "               \"p25739_i2\" : 'Discrepancy between rfMRI brain image and T1 brain image | Instance 2',\n",
    "               \"p25922_i2\" : 'Standard deviation of apparent translation in the Y axis as measured by eddy | Instance 2',\n",
    "               \"p25746_i2\" : 'Number of dMRI outlier slices detected and corrected | Instance 2',\n",
    "               \"p22000\" : 'Genotype measurement batch',\n",
    "               \"p32050\" : 'Exome release tranche',\n",
    "               \"p22009_a1\" :'Genetic principal components | Array 1',\n",
    "               \"p22009_a2\" : 'Genetic principal components | Array 2',\n",
    "               \"p22009_a3\" :'Genetic principal components | Array 3',\n",
    "               \"p22009_a4\" : 'Genetic principal components | Array 4',\n",
    "               \"p22009_a5\" : 'Genetic principal components | Array 5',\n",
    "               \"p22009_a6\" : 'Genetic principal components | Array 6',\n",
    "               \"p22009_a7\" : 'Genetic principal components | Array 7',\n",
    "               \"p22009_a8\" : 'Genetic principal components | Array 8',\n",
    "               \"p22009_a9\" : 'Genetic principal components | Array 9',\n",
    "               \"p22009_a10\" : 'Genetic principal components | Array 10',\n",
    "               \"p54_i2\" : \"UK Biobank assessment centre | Instance 2\",\n",
    "               \"p1707_i2\" : 'Handedness (chirality/laterality) | Instance 2',\n",
    "               \"p1707_i0\" : 'Handedness (chirality/laterality) | Instance 0',\n",
    "               \"p41270\" : 'Diagnoses - ICD10',\n",
    "               \"p41204\" : 'Diagnoses - secondary ICD10',\n",
    "               \"p20016_i2\" : \"Fluid intelligence score | Instance 2\",\n",
    "               \"p22019\" : \"Sex chromosome aneuploidy\",\n",
    "               \"p20252_i2\" : \"T1 structural brain images - NIFTI | Instance 2\",\n",
    "               \"p20250_i2\" : \"Multiband diffusion brain images - NIFTI | Instance 2\",\n",
    "               \"p20227_i2\" : \"Functional brain images - resting - NIFTI | Instance 2\",\n",
    "               \"p25734_i2\" : \"Inverted signal-to-noise ratio in T1 | Instance 2\",\n",
    "               \"p31\" : \"Sex\" }\n",
    "\n",
    "#column_labels = pd.read_csv(os.path.join(workspace_path, \"FLICA_table_v2_lables_participant.tsv\"), sep=\"\\t\")\n",
    "#rename_dict = dict(zip(list(df.columns), list(column_labels)))\n",
    "df.rename(columns=rename_dict, inplace=True)"
   ]
  },
  {
   "cell_type": "markdown",
   "id": "b9bdb5bf-fd79-4060-8326-06aae0d4cde5",
   "metadata": {},
   "source": [
    "## 1. Imaging QC"
   ]
  },
  {
   "cell_type": "code",
   "execution_count": 3,
   "id": "7f62daef-6bd1-4482-b8e3-c987313e616b",
   "metadata": {},
   "outputs": [
    {
     "name": "stdout",
     "output_type": "stream",
     "text": [
      "TBM QC fail Sourena (no genetics): 1096\n",
      "Fail either or both: 5277\n",
      "Subjects not in imaging QC Sourena: 4191\n"
     ]
    }
   ],
   "source": [
    "#get participants that pass genetic QC Sourena\n",
    "sourena_qc = pd.read_csv(os.path.join(workspace_path, \"qc-sourena\", \"c0-post-QC\"), sep=\" \", header=None, names=[\"sid\", \"qc_pass\"])\n",
    "\n",
    "#exclusion\n",
    "exclusion_file_dmri_sourena = open(os.path.join(workspace_path, \"qc-sourena\", \"remove-list-dMRI-all-sorted.txt\"))\n",
    "exclusion_list_dmri = [int(x) for x in sorted(list(exclusion_file_dmri_sourena.read().split(' remove\\n')))[1:]]\n",
    "exclusion_file_tbm_sourena = open(os.path.join(workspace_path, \"qc-sourena\", \"remove-list-tbm-all-sorted.txt\"))\n",
    "exclusion_list_tbm = [int(x) for x in sorted(list(exclusion_file_tbm_sourena.read().split(' remove\\n')))[1:]]\n",
    "\n",
    "all_t1s_sourena = pd.read_csv(os.path.join(workspace_path, \"qc-sourena\",\"list-t1-all.txt\"),\n",
    "                              names=[\"Participant ID\", \"nifti_rain\", \"unbiased_brain\", \"brain_mask\"],\n",
    "                              dtype={\"Participant ID\": np.int64},\n",
    "                              sep=\" \")\n",
    "\n",
    "all_t1_sou_set = set(all_t1s_sourena[\"Participant ID\"]) \n",
    "\n",
    "#get imaging QC vs genetic qc\n",
    "subs_qc = set(sourena_qc[\"sid\"])\n",
    "subs_qc_fail_gen = set(sourena_qc.loc[sourena_qc.qc_pass == \"remove\", \"sid\"])\n",
    "subs_qc_fail_dmri = set(exclusion_list_dmri) #- subs_qc_fail_gen\n",
    "subs_qc_fail_tbm = set(exclusion_list_tbm) #- subs_qc_fail_gen\n",
    "\n",
    "qc_missing_sou = np.bool_([ True if x not in subs_qc else False for x in df[\"Participant ID\"] ]).reshape((1, len(df)))\n",
    "qc_fail_dmri = np.bool_([ True if x in subs_qc_fail_dmri else False for x in df[\"Participant ID\"] ]).reshape((1, len(df)))\n",
    "qc_fail_tbm = np.bool_([ True if x in subs_qc_fail_tbm else False for x in df[\"Participant ID\"] ]).reshape((1, len(df)))\n",
    "qc_not_in_sou = np.bool_([ True if x not in all_t1_sou_set else False for x in df[\"Participant ID\"] ]).reshape((1, len(df)))\n",
    "qc_fail_gen = np.bool_([ True if x not in subs_qc_fail_gen else False for x in df[\"Participant ID\"] ]).reshape((1, len(df)))\n",
    "\n",
    "qc_fail_sou = np.logical_or(qc_fail_dmri, qc_fail_tbm)\n",
    "\n",
    "qc_exclude = np.logical_or(qc_fail_tbm, qc_not_in_sou)\n",
    "\n",
    "#print(\"dMRI QC fail Sourena (no genetics): {}\".format(np.sum(qc_fail_dmri)))\n",
    "print(\"TBM QC fail Sourena (no genetics): {}\".format(np.sum(qc_fail_tbm)))\n",
    "print(\"Fail either or both: {}\".format(np.sum(qc_exclude)))\n",
    "print(\"Subjects not in imaging QC Sourena: {}\".format(np.sum(qc_not_in_sou)))"
   ]
  },
  {
   "cell_type": "code",
   "execution_count": 4,
   "id": "dbf0db05-8a6b-4f03-9042-6720978f7efc",
   "metadata": {},
   "outputs": [
    {
     "name": "stdout",
     "output_type": "stream",
     "text": [
      "Number of subjects with diffusion data on the cluster: 47557\n",
      "Number of subjects with resting state data on the cluster: 49198\n",
      "Number of subjects with both data types available: 47514\n"
     ]
    }
   ],
   "source": [
    "#get participants with data on cluster\n",
    "rs_data_zip = list(glob.glob(\"/data/workspaces/lag/workspaces/lg-ukbiobank/primary_data/imaging_data/*/*_20227_2_0.zip\"))\n",
    "diff_data_zip = list(glob.glob(\"/data/workspaces/lag/workspaces/lg-ukbiobank/primary_data/imaging_data/*/*_20250_2_0.zip\"))\n",
    "rs_part_zip = [x[-21:-14] for x in rs_data_zip]\n",
    "diff_part_zip = [x[-21:-14] for x in diff_data_zip]\n",
    "\n",
    "print(\"Number of subjects with diffusion data on the cluster: {}\".format(len(diff_data_zip)))\n",
    "print(\"Number of subjects with resting state data on the cluster: {}\".format(len(rs_data_zip)))\n",
    "\n",
    "overlap = []\n",
    "diff_part_set = set(diff_part_zip)\n",
    "for sub in rs_part_zip:\n",
    "    if sub in diff_part_set:\n",
    "        overlap.append(sub)\n",
    "    \n",
    "print(\"Number of subjects with both data types available: {}\".format(len(overlap)))\n",
    "imaging_cluster = np.bool_( [True if x in overlap else False for x in df[\"Participant ID\"] ] ).reshape((1, len(df)))"
   ]
  },
  {
   "cell_type": "code",
   "execution_count": 5,
   "id": "f28a9474-c8c5-4e54-83b2-c0e353bfaead",
   "metadata": {},
   "outputs": [
    {
     "name": "stdout",
     "output_type": "stream",
     "text": [
      "Number of participants with in dataframe: 41584\n",
      "Subjects without resting state imaging qc metrics: 3905\n",
      "Subjects without diffusion imaging qc metrics: 4299\n",
      "Subjects without one or more imaging qc metrics: 4355\n"
     ]
    }
   ],
   "source": [
    "#check missing data\n",
    "no_part_start = len(df)\n",
    "print(\"Number of participants with in dataframe: {}\".format(no_part_start))\n",
    "\n",
    "qc_missing_rs = np.bool_(df['Mean rfMRI head motion averaged across space and time points | Instance 2'].isna()).reshape((1, len(df)))\n",
    "qc_missing_diff = np.bool_(df[ 'Number of dMRI outlier slices detected and corrected | Instance 2'].isna()).reshape((1, len(df)))\n",
    "qc_missing = np.logical_or(qc_missing_rs, qc_missing_diff, qc_missing_sou)\n",
    "\n",
    "print(\"Subjects without resting state imaging qc metrics: {}\".format(np.sum(qc_missing_rs)))\n",
    "print(\"Subjects without diffusion imaging qc metrics: {}\".format(np.sum(qc_missing_diff)))\n",
    "print(\"Subjects without one or more imaging qc metrics: {}\".format(np.sum(qc_missing)))"
   ]
  },
  {
   "cell_type": "code",
   "execution_count": 6,
   "id": "5ccb0973-3bed-451e-a0ae-2538f910268d",
   "metadata": {},
   "outputs": [
    {
     "name": "stdout",
     "output_type": "stream",
     "text": [
      "Subjects that failed imaging QC Sourena: 1096\n",
      "Subjects outside 3.5 standard deviations: 2133\n",
      "Subjects that failed metric QC outside 3.5 standard deviations (includes missing QC metrics): 6038\n",
      "Subjects with resting QC missing: 3905\n",
      "Subjects not in imaging QC Sourena: 4191\n",
      "Subjects overlap imaging QC Sourena && 3 std: 94\n",
      "Subjects overlap imaging QC Sourena && unusable fMRI: 40\n",
      "Subjects overlap imaging QC Sourena && unusable dMRI: 44\n",
      "Subjects overlap imaging unusable dMRI && fMRI: 44\n",
      "Number of subjects excluded after imaging QC: 7040\n"
     ]
    }
   ],
   "source": [
    "#imaging qc:\n",
    "stds=df[qc_cols].std()\n",
    "means=df[qc_cols].mean()\n",
    "\n",
    "high_cut_off = means+no_std*stds\n",
    "high = np.bool_([np.array(df[qc_cols] < high_cut_off).sum(axis=1) < len(qc_cols)]).reshape((1, len(df)))\n",
    "\n",
    "high_excl = set(df.loc[high.T, \"Participant ID\"]) - set(df.loc[qc_missing_rs.T, \"Participant ID\"])\n",
    "\n",
    "qc_exclude = np.logical_or(high, qc_fail_tbm)\n",
    "#qc_missing = np.logical_or(qc_mqc_not_in_sou)\n",
    "##imaging_qc_all = np.logical_or(qc_exclude, qc_missing)\n",
    "overlap_tbm_high = np.logical_and(high, qc_fail_tbm)\n",
    "overlap_tbm_missing_rs = np.logical_and(qc_fail_tbm, qc_missing_rs)\n",
    "overlap_tbm_missing_dti = np.logical_and(qc_fail_tbm, qc_missing_diff)\n",
    "overlap_missing_dti_rs = np.logical_and(qc_missing_diff, qc_missing_rs)\n",
    "\n",
    "print(\"Subjects that failed imaging QC Sourena: {}\".format(np.sum(qc_fail_tbm)))\n",
    "print(\"Subjects outside {0} standard deviations: {1}\".format( no_std, len(high_excl)) )\n",
    "print(\"Subjects that failed metric QC outside {0} standard deviations (includes missing QC metrics): {1}\".format(no_std, np.sum(high)))\n",
    "print(\"Subjects with resting QC missing: {}\".format(np.sum(qc_missing_rs)))\n",
    "print(\"Subjects not in imaging QC Sourena: {}\".format(np.sum(qc_not_in_sou)))\n",
    "print(\"Subjects overlap imaging QC Sourena && 3 std: {}\".format(np.sum(overlap_tbm_high)))\n",
    "print(\"Subjects overlap imaging QC Sourena && unusable fMRI: {}\".format(np.sum(overlap_tbm_missing_rs)))\n",
    "print(\"Subjects overlap imaging QC Sourena && unusable dMRI: {}\".format(np.sum(overlap_tbm_missing_dti)))\n",
    "print(\"Subjects overlap imaging unusable dMRI && fMRI: {}\".format(np.sum(overlap_tbm_missing_dti)))\n",
    "#print(\"Subjects that have no QC status available: {}\".format(np.sum(qc_missing)))\n",
    "print(\"Number of subjects excluded after imaging QC: {}\".format(np.sum(qc_exclude)))"
   ]
  },
  {
   "cell_type": "markdown",
   "id": "dc0e7e5c-a6ec-4b19-b6a1-a204ad429f01",
   "metadata": {},
   "source": [
    "## 2. Genetic QC"
   ]
  },
  {
   "cell_type": "code",
   "execution_count": 9,
   "id": "d86930bb-6644-4820-add9-bc618ab9ab52",
   "metadata": {},
   "outputs": [
    {
     "name": "stdout",
     "output_type": "stream",
     "text": [
      "Number of subjects excluded with sex check (GWAS and exome), sex chromosome aneuploidy or genetic relatedness: 1399\n",
      "Number of subjects excluded with sex check (GWAS and exome), sex chromosome aneuploidy or genetic relatedness after imaging QC: 625\n",
      "Total number of subjects excluded: 8828\n"
     ]
    }
   ],
   "source": [
    "#sex check\n",
    "exome_list_file = open(\"/data/workspaces/lag/workspaces/lg-ukbiobank/derived_data/genetic_data/exome/exome_release_450k/sex_check/ukb_exome_450k_white_british_ancestry_individuals_discordant_reported_genetic_sex_female_0.3_male_0.7.txt\")\n",
    "exome_sex_check = set([int(x) for x in sorted(list(exome_list_file.read().split('\\n')))[1:]])\n",
    "\n",
    "#exome_batch = pd.read_csv(\"/data/workspaces/lag/workspaces/lg-ukbiobank/derived_data/genetic_data/exome/exome_release_final/exome_batch/exome_batches.txt\",\n",
    "#                          sep=\"\\t\",\n",
    "#                          names=[\"Participant ID\", \"exome_batch\"],\n",
    "#                          dtype={\"Participant ID\": np.int64, \"exome_batch\": np.int32},\n",
    "#                          skiprows=1)\n",
    "#df = df.join(exome_batch['exome_batch'], how='left', on=\"Participant ID\")\n",
    "\n",
    "#gwas_check_wb_file = open(\"/data/workspaces/lag/workspaces/lg-ukbiobank/derived_data/genetic_data/exome/exome_release_450k/sex_check/ukb_exome_450k_white_british_ancestry_individuals_discordant_reported_genetic_sex_female_0.3_male_0.7.txt\")\n",
    "#gwas_check_list = [int(x) for x in sorted(list(gwas_check_wb_file.read().split('\\n')))[1:]]\n",
    "\n",
    "gwas_check_wb_file = open(\"/data/workspaces/lag/workspaces/lg-ukbiobank/derived_data/genetic_data/snp/subset_imagingT1_50k/whiteBritish_subset/imagingT1_exclude_POSTrelatedness.txt\")\n",
    "gwas_check_list = [int(x) for x in sorted(list(gwas_check_wb_file.read().split('\\n')))[1:]]\n",
    "\n",
    "sex_chr_aneuploidy = ~df[\"Sex chromosome aneuploidy\"].isna()\n",
    "genetic_sex = np.bool_(df[\"Sex\"] != df[\"Genetic sex\"])\n",
    "exome_check = np.bool_( [True if x in exome_sex_check else False for x in df[\"Participant ID\"] ] )\n",
    "gwas_check = np.bool_( [True if x in gwas_check_list else False for x in df[\"Participant ID\"] ] )\n",
    "sex_check = np.logical_or(sex_chr_aneuploidy, genetic_sex)\n",
    "gen_check = np.logical_or(gwas_check, exome_check, sex_check) \n",
    "\n",
    "basic_filter = np.logical_or(qc_exclude, gen_check)\n",
    "gen_img_both = np.logical_and(qc_exclude, gen_check)\n",
    "\n",
    "print(\"Number of subjects excluded with sex check (GWAS and exome), sex chromosome aneuploidy or genetic relatedness: {}\".format(np.sum(gen_check)))\n",
    "print(\"Number of subjects excluded with sex check (GWAS and exome), sex chromosome aneuploidy or genetic relatedness after imaging QC: {}\".format(np.sum(gen_check) - np.sum(gen_img_both)))\n",
    "print(\"Total number of subjects excluded: {}\".format(np.sum(basic_filter)))"
   ]
  },
  {
   "cell_type": "markdown",
   "id": "566abff6-5138-41eb-b256-7bf54a59385d",
   "metadata": {},
   "source": [
    "## 3. Exporting:\n",
    "- include list\n",
    "- exclude list\n",
    "- missing list (maybe second round)\n",
    "- filtered dataframe\n",
    "- behavioural \n",
    "- covariates"
   ]
  },
  {
   "cell_type": "code",
   "execution_count": 10,
   "id": "1924740c-d854-46ab-9550-b0a14f5dcfc7",
   "metadata": {},
   "outputs": [
    {
     "name": "stdout",
     "output_type": "stream",
     "text": [
      "Number of participants included: (32756, 37)\n"
     ]
    }
   ],
   "source": [
    "#TODO ADD:\n",
    "#FILTER MISSING LIST FOR GENETIC QC AND SOURENA'S IMAGING QC -> maybe list\n",
    "\n",
    "#participant lists\n",
    "include_list = df.loc[~basic_filter.T, \"Participant ID\"].to_csv(os.path.join(workspace_path,\"participant_list_imaging_sex_check_50k.txt\"),index=False,header=False, sep=\"\\t\") \n",
    "\n",
    "#maybe_list = df.loc[qc_missing.T, \"Participant ID\"].to_csv(os.path.join(workspace_path,\"maybe_participants_new.txt\"),index=False,header=False, sep=\"\\t\")\n",
    "\n",
    "keep = df.loc[~basic_filter.T, :]\n",
    "keep.to_csv(os.path.join(workspace_path,\"FLICA_filtered_data_50k.tsv\"), index=False, sep=\"\\t\")\n",
    "\n",
    "print(\"Number of participants included: {}\".format(keep.shape))"
   ]
  },
  {
   "cell_type": "code",
   "execution_count": null,
   "id": "a2f2a5b5-9c87-4ab0-9c3a-3666f8fea6e2",
   "metadata": {},
   "outputs": [],
   "source": [
    "! cat /data/workspaces/lag/workspaces/lg-ukbiobank/projects/FLICA_multimodal/participant_list_imaging_sex_check.txt | head -n 100 > /data/workspaces/lag/workspaces/lg-ukbiobank/projects/FLICA_multimodal/participants_hundred.txt\n",
    "! cat /data/workspaces/lag/workspaces/lg-ukbiobank/projects/FLICA_multimodal/participant_list_imaging_sex_check.txt | head -n 1000 | tail -n 900 > /data/workspaces/lag/workspaces/lg-ukbiobank/projects/FLICA_multimodal/participants_thousand.txt \n",
    "! cat /data/workspaces/lag/workspaces/lg-ukbiobank/projects/FLICA_multimodal/participant_list_imaging_sex_check.txt | head -n 20000 | tail -n 10000 > /data/workspaces/lag/workspaces/lg-ukbiobank/projects/FLICA_multimodal/participants_next_ten_thousand.txt "
   ]
  },
  {
   "cell_type": "code",
   "execution_count": 13,
   "id": "f88dc893-7269-4a44-8b16-027cb56f8803",
   "metadata": {},
   "outputs": [],
   "source": [
    "#save\n",
    "behavior = ['Participant ID',\n",
    "            'Sex',\n",
    "            #'Age when attended assessment centre | Instance 0',\n",
    "            'Age when attended assessment centre | Instance 2',\n",
    "            'Handedness (chirality/laterality) | Instance 0',\n",
    "            'Handedness (chirality/laterality) | Instance 2',\n",
    "            'Diagnoses - ICD10',\n",
    "            #'Diagnoses - main ICD10',\n",
    "            'Diagnoses - secondary ICD10',\n",
    "            ]\n",
    "\n",
    "keep[behavior].to_csv(os.path.join(workspace_path, \"behavioural_scores_N{}.tsv\".format(len(keep))), sep=\"\\t\", index=False)"
   ]
  },
  {
   "cell_type": "code",
   "execution_count": 14,
   "id": "deca8e34-716c-4be4-9271-0d174d26d7fb",
   "metadata": {},
   "outputs": [
    {
     "name": "stderr",
     "output_type": "stream",
     "text": [
      "/tmp/ipykernel_50634/2692371217.py:39: SettingWithCopyWarning: \n",
      "A value is trying to be set on a copy of a slice from a DataFrame.\n",
      "Try using .loc[row_indexer,col_indexer] = value instead\n",
      "\n",
      "See the caveats in the documentation: https://pandas.pydata.org/pandas-docs/stable/user_guide/indexing.html#returning-a-view-versus-a-copy\n",
      "  covs['age_sq'] = np.square(covs['Age when attended assessment centre | Instance 2'])\n",
      "/tmp/ipykernel_50634/2692371217.py:40: SettingWithCopyWarning: \n",
      "A value is trying to be set on a copy of a slice from a DataFrame.\n",
      "Try using .loc[row_indexer,col_indexer] = value instead\n",
      "\n",
      "See the caveats in the documentation: https://pandas.pydata.org/pandas-docs/stable/user_guide/indexing.html#returning-a-view-versus-a-copy\n",
      "  covs['age_sex'] = covs['Age when attended assessment centre | Instance 2']*covs['Genetic sex']\n",
      "/tmp/ipykernel_50634/2692371217.py:43: SettingWithCopyWarning: \n",
      "A value is trying to be set on a copy of a slice from a DataFrame.\n",
      "Try using .loc[row_indexer,col_indexer] = value instead\n",
      "\n",
      "See the caveats in the documentation: https://pandas.pydata.org/pandas-docs/stable/user_guide/indexing.html#returning-a-view-versus-a-copy\n",
      "  covs['geno_array_dummy'] = 1\n",
      "/tmp/ipykernel_50634/2692371217.py:49: SettingWithCopyWarning: \n",
      "A value is trying to be set on a copy of a slice from a DataFrame.\n",
      "Try using .loc[row_indexer,col_indexer] = value instead\n",
      "\n",
      "See the caveats in the documentation: https://pandas.pydata.org/pandas-docs/stable/user_guide/indexing.html#returning-a-view-versus-a-copy\n",
      "  covs['exome_dummy'] = 1\n"
     ]
    }
   ],
   "source": [
    "#covariates\n",
    "\n",
    "covariates = [ #subject characteristics\n",
    "              'Participant ID',\n",
    "              'Genetic sex',\n",
    "              'Age when attended assessment centre | Instance 2',\n",
    "    \n",
    "                #T1\n",
    "              'Amount of warping applied to non-linearly align T1 brain image to standard-space | Instance 2',\n",
    "              'Scanner lateral (X) brain position | Instance 2',\n",
    "              'Scanner transverse (Y) brain position | Instance 2',\n",
    "              'Scanner longitudinal (Z) brain position | Instance 2',\n",
    "    \n",
    "                #rfMRI\n",
    "              'Inverted temporal signal-to-noise ratio in artefact-cleaned pre-processed rfMRI | Instance 2',\n",
    "              'Mean rfMRI head motion averaged across space and time points | Instance 2',\n",
    "              'Discrepancy between rfMRI brain image and T1 brain image | Instance 2',\n",
    "    \n",
    "                #dMRI\n",
    "              'Discrepancy between dMRI brain image and T1 brain image | Instance 2',\n",
    "              'Standard deviation of apparent translation in the Y axis as measured by eddy | Instance 2',\n",
    "              'Number of dMRI outlier slices detected and corrected | Instance 2',\n",
    "    \n",
    "                #genetic\n",
    "              'Genetic principal components | Array 1',\n",
    "              'Genetic principal components | Array 2',\n",
    "              'Genetic principal components | Array 3',\n",
    "              'Genetic principal components | Array 4',\n",
    "              'Genetic principal components | Array 5',\n",
    "              'Genetic principal components | Array 6',\n",
    "              'Genetic principal components | Array 7',\n",
    "              'Genetic principal components | Array 8',\n",
    "              'Genetic principal components | Array 9',\n",
    "              'Genetic principal components | Array 10'\n",
    "]\n",
    "\n",
    "covs = keep[covariates]\n",
    "\n",
    "covs['age_sq'] = np.square(covs['Age when attended assessment centre | Instance 2'])\n",
    "covs['age_sex'] = covs['Age when attended assessment centre | Instance 2']*covs['Genetic sex']\n",
    "\n",
    "#make dummies\n",
    "covs['geno_array_dummy'] = 1\n",
    "covs.loc[keep['Genotype measurement batch'] < 0, 'geno_array_dummy'] = 0\n",
    "\n",
    "site_dummies = pd.get_dummies(keep['UK Biobank assessment centre | Instance 2'])\n",
    "site_dummies.columns = [\"site_dummy_{0}\".format(x) for x in site_dummies.columns]\n",
    "\n",
    "covs['exome_dummy'] = 1\n",
    "covs.loc[keep[\"Exome release tranche\"] > 3.1, 'exome_dummy'] = 0\n",
    "\n",
    "covs = pd.concat([covs, site_dummies], axis=1)\n",
    "covs.columns = [x.replace(\" \",\"_\") for x in covs.columns]\n",
    "\n",
    "covs = covs[ ['Participant_ID'] + list(covs.columns[0:]) ]\n",
    "\n",
    "covs.columns = [ ['FID', 'IID'] + list(covs.columns[2:]) ]\n",
    "\n",
    "covs.to_csv(os.path.join(workspace_path, \"regenie_covariates_50k.tsv\"), sep=\"\\t\", index=False)"
   ]
  },
  {
   "cell_type": "code",
   "execution_count": null,
   "id": "b80b8e3c-bf0e-4e4a-8268-3cf21580ce6d",
   "metadata": {},
   "outputs": [],
   "source": []
  }
 ],
 "metadata": {
  "kernelspec": {
   "display_name": "Python [conda env:congrads]",
   "language": "python",
   "name": "conda-env-congrads-py"
  },
  "language_info": {
   "codemirror_mode": {
    "name": "ipython",
    "version": 3
   },
   "file_extension": ".py",
   "mimetype": "text/x-python",
   "name": "python",
   "nbconvert_exporter": "python",
   "pygments_lexer": "ipython3",
   "version": "3.12.0"
  }
 },
 "nbformat": 4,
 "nbformat_minor": 5
}
