{
 "cells": [
  {
   "cell_type": "markdown",
   "id": "06e8d9da-d4db-43a7-b8e0-2b8ff78c8e19",
   "metadata": {},
   "source": [
    "# Check if imaging analysis has run"
   ]
  },
  {
   "cell_type": "code",
   "execution_count": 2,
   "id": "ebc3b27e-1aa1-4c5f-a684-f0c9154e3df6",
   "metadata": {},
   "outputs": [],
   "source": [
    "import os\n",
    "import glob\n",
    "import pandas as pd\n",
    "\n",
    "def load_list(fn):\n",
    "    return [str(x) for x in open( fn ).read().split('\\n')[:-1] ]\n",
    "\n",
    "def to_list(in_list, fn):\n",
    "    with open(fn, \"w\") as file:\n",
    "        for row in in_list:\n",
    "            file.write(str(row)+'\\n')"
   ]
  },
  {
   "cell_type": "code",
   "execution_count": 4,
   "id": "947159b5-47c9-4aaf-b7e3-f342544006f3",
   "metadata": {},
   "outputs": [
    {
     "name": "stdout",
     "output_type": "stream",
     "text": [
      "Successful: 28167\n",
      "IFL only: 0\n",
      "MTL only: 0\n",
      "No diff: 4571\n",
      "No tbm: 0\n",
      "Started: 0\n",
      "Not started: 18\n"
     ]
    }
   ],
   "source": [
    "cfs_path = \"/data/clusterfs/lag/projects/lg-ukbiobank/working_data/imaging_data/FLICA_multimodal/\"\n",
    "workspace_path = \"/data/workspaces/lag/workspaces/lg-ukbiobank/projects/FLICA_multimodal/\"\n",
    "\n",
    "check_subs = True\n",
    "successful = []\n",
    "ifl_only = []\n",
    "mtl_only = []\n",
    "started = []\n",
    "no_diff = []\n",
    "no_tbm = []\n",
    "not_started = []\n",
    "\n",
    "subs_in_file1 = open(os.path.join(workspace_path, \"participant_list_imaging_sex_check_50k.txt\"))\n",
    "subs_in = [int(x) for x in sorted(list(subs_in_file1.read().split('\\n')))[1:]]\n",
    "#subs_in_file2 = open(os.path.join(workspace_path, \"participants_thousand.txt\"))\n",
    "#subs_in = subs_in + [int(x) for x in sorted(list(subs_in_file2.read().split('\\n')))[1:]]\n",
    "#subs_in_file3 = open(os.path.join(workspace_path, \"participants_ten_thousand.txt\"))\n",
    "#subs_in = subs_in + [int(x) for x in sorted(list(subs_in_file3.read().split('\\n')))[1:]]\n",
    "#subs_in_file4 = open(os.path.join(workspace_path, \"participants_next_ten_thousand.txt\"))\n",
    "#subs_in = subs_in + [int(x) for x in sorted(list(subs_in_file4.read().split('\\n')))[1:]]\n",
    "#files_native = sorted(glob.glob(os.path.join(cfs_path,\"dr_stage2_native\", \"*\", \"ica_ifl_standard.nii.gz\")))\n",
    "#subs_native = set([ int(os.path.split(os.path.split(x)[-2])[-1]) for x in files_native])\n",
    "#folders_mni = sorted(glob.glob(os.path.join(cfs_path,\"dr_stage2\", \"*\")))\n",
    "#subs_folders = set([ int(os.path.split(x)[-1]) for x in folders_mni])\n",
    "\n",
    "files_ifl = sorted(glob.glob(os.path.join(cfs_path, \"dr_stage2\", \"*\", \"ica_ifl.nii.gz\")))\n",
    "files_mtl = sorted(glob.glob(os.path.join(cfs_path, \"dr_stage2\", \"*\", \"ica_mtl.nii.gz\")))\n",
    "files_diff = sorted(glob.glob(\"/data/clusterfs/lag/projects/lg-ukbiobank/working_data/qc-sourena/sw-preproc/*/*-afd.nii.gz\"))\n",
    "#files_diff = sorted(glob.glob(\"/data/clusterfs/lag/projects/lg-ukbiobank/primary_data/imaging_data/*/dMRI/dMRI/dti_FA.nii.gz\"))\n",
    "files_tbm = sorted(glob.glob(\"/data/clusterfs/lag/projects/lg-ukbiobank/working_data/qc-sourena/sw-preproc/*/*-unbiased-brain-composite-warp-jac-roi_iso_2.nii.gz\"))\n",
    "subs_ifl = set([ int(os.path.split(os.path.split(x)[-2])[-1]) for x in files_ifl])\n",
    "subs_mtl = set([ int(os.path.split(os.path.split(x)[-2])[-1]) for x in files_mtl])\n",
    "#subs_diff = set([ int(os.path.split(os.path.split(os.path.split(os.path.split(x)[-2])[-2])[-2])[-1]) for x in files_diff])\n",
    "subs_diff = set([ int(os.path.split(os.path.split(x)[-2])[-1]) for x in files_diff])\n",
    "subs_tbm = set([ int(os.path.split(os.path.split(x)[-2])[-1]) for x in files_tbm])\n",
    "\n",
    "\n",
    "\n",
    "if check_subs:\n",
    "    for sub in subs_in:\n",
    "        if sub in subs_ifl:\n",
    "            if sub in subs_mtl:\n",
    "                if sub in subs_diff:\n",
    "                    if sub in subs_tbm:\n",
    "                        successful.append(sub)\n",
    "                    else:\n",
    "                        no_tbm.append(sub)\n",
    "                else:\n",
    "                    no_diff.append(sub)\n",
    "            else:\n",
    "                ifl_only.append(sub)\n",
    "        elif sub in subs_mtl:\n",
    "            mtl_only.append(sub)\n",
    "        elif os.path.isfile(os.path.join(cfs_path, \"dr_stage2\", str(sub))):\n",
    "            started.append(sub)\n",
    "        else:\n",
    "            not_started.append(sub)\n",
    "\n",
    "    print(\"Successful: {}\".format(len(successful)))\n",
    "    print(\"IFL only: {}\".format(len(ifl_only)))\n",
    "    print(\"MTL only: {}\".format(len(mtl_only)))\n",
    "    print(\"No diff: {}\".format(len(no_diff)))\n",
    "    print(\"No tbm: {}\".format(len(no_tbm)))\n",
    "    print(\"Started: {}\".format(len(started)))\n",
    "    print(\"Not started: {}\".format(len(not_started)))\n",
    "#print(\"Subjects started, not finished:\")\n",
    "#print(not_started)\n",
    "\n",
    "#to_list(fn=os.path.join(workspace_path, \"missing_diff.txt\"),\n",
    "#       in_list=not_started)"
   ]
  },
  {
   "cell_type": "code",
   "execution_count": 31,
   "id": "0dfe70c1-2c81-42be-8964-4d73f1c29cb7",
   "metadata": {},
   "outputs": [],
   "source": [
    "to_list(fn=os.path.join(workspace_path, \"missing_resting_state_newest.txt\"),\n",
    "       in_list=not_started)"
   ]
  },
  {
   "cell_type": "code",
   "execution_count": 5,
   "id": "3331f3b2-d543-4b13-ae31-faf302876980",
   "metadata": {},
   "outputs": [],
   "source": [
    "to_list(fn=os.path.join(workspace_path, \"missing_diff_N{}.txt\".format(len(no_tbm))),\n",
    "       in_list=no_diff)"
   ]
  },
  {
   "cell_type": "code",
   "execution_count": 17,
   "id": "6078a5c4-ab32-482b-98d1-13b89a0fcfdd",
   "metadata": {},
   "outputs": [
    {
     "name": "stdout",
     "output_type": "stream",
     "text": [
      "Number of diffusion files on workspace: 47557\n",
      "Number of diffusion files on cfs: 35240\n",
      "Missing diffusion subs: 4571\n",
      "Missing diffusion subs on cluster: 4124\n",
      "Missing diffusion subs on workspace: 445\n",
      "Missing diffusion subs unavailable: 2\n"
     ]
    }
   ],
   "source": [
    "diff_data_zip = list(glob.glob(\"/data/workspaces/lag/workspaces/lg-ukbiobank/primary_data/imaging_data/*/*_20250_2_0.zip\"))\n",
    "diff_zip_set = set([int(x[-21:-14]) for x in diff_data_zip])\n",
    "\n",
    "print(\"Number of diffusion files on workspace: {}\".format(len(diff_zip_set)))\n",
    "\n",
    "diff_data_cfs = list(glob.glob(\"/data/clusterfs/lag/projects/lg-ukbiobank/primary_data/imaging_data/*/dMRI/dMRI/data.eddy_rotated_bvecs\"))\n",
    "diff_cfs_set = set([int(x[-41:-34]) for x in diff_data_cfs])\n",
    "\n",
    "print(\"Number of diffusion files on cfs: {}\".format(len(diff_cfs_set)))\n",
    "\n",
    "on_cluster = []\n",
    "on_workspace= []\n",
    "not_available = []\n",
    "\n",
    "for sub in no_diff:\n",
    "    if sub in diff_cfs_set:\n",
    "        on_cluster.append(sub)\n",
    "    elif sub in diff_zip_set:\n",
    "        on_workspace.append(sub)\n",
    "    else:\n",
    "        not_available.append(sub)\n",
    "        \n",
    "print(\"Missing diffusion subs: {}\".format(len(no_diff)))\n",
    "print(\"Missing diffusion subs on cluster: {}\".format(len(on_cluster)))\n",
    "print(\"Missing diffusion subs on workspace: {}\".format(len(on_workspace)))\n",
    "print(\"Missing diffusion subs unavailable: {}\".format(len(not_available)))"
   ]
  },
  {
   "cell_type": "code",
   "execution_count": 18,
   "id": "9b94d14f-3d49-4c2d-88ca-80e68ab2ca7d",
   "metadata": {},
   "outputs": [],
   "source": [
    "to_list(fn=os.path.join(workspace_path, \"missing_diff_on_cluster_N{}.txt\".format(len(on_cluster))),\n",
    "       in_list=on_cluster)\n",
    "to_list(fn=os.path.join(workspace_path, \"missing_diff_on_workspace_N{}.txt\".format(len(on_workspace))),\n",
    "       in_list=on_workspace)"
   ]
  },
  {
   "cell_type": "code",
   "execution_count": 3,
   "id": "47b7643d-193b-4a26-b901-bba77b4205d8",
   "metadata": {},
   "outputs": [
    {
     "name": "stdout",
     "output_type": "stream",
     "text": [
      "Current storage size after running 30878 subjects (also includes some other files in directory):\n",
      "31.49293038342148 Gb for raw fMRI files and 2468.264628571458 Gb for dr stage 2 output\n"
     ]
    }
   ],
   "source": [
    "def folder_size(path='.'):\n",
    "    total = 0\n",
    "    for entry in os.scandir(path):\n",
    "        if entry.is_file():\n",
    "            total += entry.stat().st_size\n",
    "        elif entry.is_dir():\n",
    "            total += folder_size(entry.path)\n",
    "    return total\n",
    "folder_sz_Gb_fmri = folder_size(os.path.join(cfs_path, \"fMRI\")) / (1024*1024*1024)\n",
    "folder_sz_Gb_dr2 =  folder_size(os.path.join(cfs_path, \"dr_stage2\")) / (1024*1024*1024)\n",
    "print(\"Current storage size after running {0} subjects (also includes some other files in directory):\".format(len(subs_in)))\n",
    "print(\"{1} Gb for raw fMRI files and {2} Gb for dr stage 2 output\".format(len(successful), folder_sz_Gb_fmri, folder_sz_Gb_dr2))\n",
    "#print(\"Estimated storage size: {}\".format((folder_sz_Gb_dr2)*1.5))"
   ]
  },
  {
   "cell_type": "code",
   "execution_count": 7,
   "id": "de027191-7ef5-4ea8-9c46-4fde0c692fc8",
   "metadata": {},
   "outputs": [
    {
     "name": "stdout",
     "output_type": "stream",
     "text": [
      "Current storage size after running 30878 subjects (also includes some other files in directory):\n",
      "1.2901520822197199 Gb for running TBSS\n",
      "Estimated storage size: 367.69334343262017\n"
     ]
    }
   ],
   "source": [
    "def folder_size(path='.'):\n",
    "    total = 0\n",
    "    for entry in os.scandir(path):\n",
    "        if entry.is_file():\n",
    "            total += entry.stat().st_size\n",
    "        elif entry.is_dir():\n",
    "            total += folder_size(entry.path)\n",
    "    return total\n",
    "cfs_path = \"/data/clusterfs/lag/projects/lg-ukbiobank/working_data/imaging_data/FLICA_multimodal/\"\n",
    "folder_sz_Gb_tbss = folder_size(os.path.join(cfs_path, \"tbss\")) / (1024*1024*1024)\n",
    "#folder_sz_Gb_dr2 =  folder_size(os.path.join(cfs_path, \"dr_stage2\")) / (1024*1024*1024)\n",
    "print(\"Current storage size after running {0} subjects (also includes some other files in directory):\".format(len(subs_in)))\n",
    "print(\"{1} Gb for running TBSS\".format(len(successful), folder_sz_Gb_tbss))\n",
    "print(\"Estimated storage size: {}\".format((folder_sz_Gb_tbss)*285))"
   ]
  },
  {
   "cell_type": "code",
   "execution_count": 4,
   "id": "5d693f7b-31e9-417d-8b5d-27b23665540b",
   "metadata": {},
   "outputs": [],
   "source": [
    "successful = sorted(successful)\n",
    "\n",
    "ifl_files = [\"/data/clusterfs/lag/projects/lg-ukbiobank/working_data/imaging_data/FLICA_multimodal/dr_stage2/{}/ica_ifl.nii.gz\".format(x) for x in successful]\n",
    "mtl_files = [\"/data/clusterfs/lag/projects/lg-ukbiobank/working_data/imaging_data/FLICA_multimodal/dr_stage2/{}/ica_mtl.nii.gz\".format(x) for x in successful]\n",
    "tbm_files = [\"/data/clusterfs/lag/projects/lg-ukbiobank/working_data/qc-sourena/sw-preproc/{0}/{0}-unbiased-brain-composite-warp-jac-roi_iso_2.nii.gz\".format(x) for x in successful]\n",
    "diff_files = [\"/data/clusterfs/lag/projects/lg-ukbiobank/working_data/qc-sourena/sw-preproc/{0}/{0}-afd.nii.gz\".format(x) for x in successful]\n",
    "#fa_files = [\"/data/clusterfs/lag/projects/lg-ukbiobank/primary_data/imaging_data/{0}/dMRI/dMRI/dti_FA.nii.gz\".format(x) for x in successful]\n",
    "#md_files = [\"/data/clusterfs/lag/projects/lg-ukbiobank/primary_data/imaging_data/{0}/dMRI/dMRI/dti_MD.nii.gz\".format(x) for x in successful]\n",
    "\n",
    "to_list(fn=os.path.join(workspace_path, \"ifl_files_in_N{}.txt\".format(len(ifl_files))),\n",
    "       in_list=ifl_files)\n",
    "to_list(fn=os.path.join(workspace_path, \"mtl_files_in_N{}.txt\".format(len(mtl_files))),\n",
    "       in_list=mtl_files)\n",
    "to_list(fn=os.path.join(workspace_path, \"tbm_files_in_N{}.txt\".format(len(tbm_files))),\n",
    "       in_list=tbm_files)\n",
    "#to_list(fn=os.path.join(workspace_path, \"dmri_files_in_N{}.txt\".format(len(diff_files))),\n",
    "#       in_list=diff_files)\n",
    "#to_list(fn=os.path.join(workspace_path, \"fa_files_in_N{}.txt\".format(len(fa_files))),\n",
    "#       in_list=fa_files)\n",
    "#to_list(fn=os.path.join(workspace_path, \"md_files_in_N{}.txt\".format(len(md_files))),\n",
    "#       in_list=md_files)"
   ]
  },
  {
   "cell_type": "code",
   "execution_count": 6,
   "id": "f0dcf4be-e12f-491f-b489-4cca6e4f8f3a",
   "metadata": {},
   "outputs": [],
   "source": [
    "to_list(fn=os.path.join(workspace_path, \"pre_flica_subs_N{}.txt\".format(len(successful))),\n",
    "       in_list=successful)"
   ]
  },
  {
   "cell_type": "code",
   "execution_count": 20,
   "id": "19d02d91-f71c-46a5-a483-d09a2c4fd451",
   "metadata": {},
   "outputs": [
    {
     "name": "stdout",
     "output_type": "stream",
     "text": [
      "1855\n"
     ]
    }
   ],
   "source": [
    "missing = []\n",
    "for fn in diff_files:\n",
    "    if os.path.isfile(fn):\n",
    "        pass\n",
    "    else:\n",
    "        missing.append(fn)\n",
    "print(len(missing))"
   ]
  },
  {
   "cell_type": "code",
   "execution_count": 13,
   "id": "a6758530-d224-4137-a7e7-093b68e56755",
   "metadata": {},
   "outputs": [
    {
     "name": "stdout",
     "output_type": "stream",
     "text": [
      "93\n"
     ]
    }
   ],
   "source": [
    "#OLD\n",
    "#fslqc:\n",
    "mkdir -p  /data/clusterfs/lag/projects/lg-ukbiobank/working_data/imaging_data/FLICA_multimodal/flica_in/rs_ifl\n",
    "fslmerge -t /data/clusterfs/lag/projects/lg-ukbiobank/working_data/imaging_data/FLICA_multimodal/flica_in/rs_ifl/ica_ifl_mni_1.nii.gz $(cat /data/workspaces/lag/workspaces/lg-ukbiobank/projects/FLICA_multimodal/ifl_files_in_N26660.txt | head -n 10000)\n",
    "fslmerge -t /data/clusterfs/lag/projects/lg-ukbiobank/working_data/imaging_data/FLICA_multimodal/flica_in/rs_ifl/ica_ifl_mni_2.nii.gz $(cat /data/workspaces/lag/workspaces/lg-ukbiobank/projects/FLICA_multimodal/ifl_files_in_N26660.txt | head -n 20000 | tail -n 10000)\n",
    "fslmerge -t /data/clusterfs/lag/projects/lg-ukbiobank/working_data/imaging_data/FLICA_multimodal/flica_in/rs_ifl/ica_ifl_mni_3.nii.gz $(cat /data/workspaces/lag/workspaces/lg-ukbiobank/projects/FLICA_multimodal/ifl_files_in_N26660.txt | tail -n 6660)\n",
    "fslmerge -t /data/clusterfs/lag/projects/lg-ukbiobank/working_data/imaging_data/FLICA_multimodal/flica_in/rs_ifl/ica_ifl_mni.nii.gz /data/clusterfs/lag/projects/lg-ukbiobank/working_data/imaging_data/FLICA_multimodal/flica_in/rs_ifl/ica_ifl_mni_*.nii.gz \n",
    "rm /data/clusterfs/lag/projects/lg-ukbiobank/working_data/imaging_data/FLICA_multimodal/flica_in/rs_ifl/ica_ifl_mni_*.nii.gz \n",
    "\n",
    "#fslmerge -t /data/clusterfs/lag/projects/lg-ukbiobank/working_data/imaging_data/FLICA_multimodal/flica_in/rs_ifl/ica_ifl_mni.nii.gz $(cat /data/workspaces/lag/workspaces/lg-ukbiobank/projects/FLICA_multimodal/ifl_files_in_N28515.txt)\n",
    "fslmaths /data/clusterfs/lag/projects/lg-ukbiobank/working_data/imaging_data/FLICA_multimodal/flica_in/rs_ifl/ica_ifl_mni.nii.gz -Tstd /data/clusterfs/lag/projects/lg-ukbiobank/working_data/imaging_data/FLICA_multimodal/dr_stage2/ica_ifl_mni_std.nii.gz\n",
    "fslmaths /data/clusterfs/lag/projects/lg-ukbiobank/working_data/imaging_data/FLICA_multimodal/flica_in/rs_ifl/ica_ifl_mni.nii.gz -Tmean /data/clusterfs/lag/projects/lg-ukbiobank/working_data/imaging_data/FLICA_multimodal/dr_stage2/ica_ifl_mni_mean.nii.gz\n",
    "fslmaths /data/clusterfs/lag/projects/lg-ukbiobank/working_data/imaging_data/FLICA_multimodal/flica_in/rs_ifl/ica_ifl_mni.nii.gz -Tmin /data/clusterfs/lag/projects/lg-ukbiobank/working_data/imaging_data/FLICA_multimodal/dr_stage2/ica_ifl_mni_min.nii.gz\n",
    "fslmaths /data/clusterfs/lag/projects/lg-ukbiobank/working_data/imaging_data/FLICA_multimodal/flica_in/rs_ifl/ica_ifl_mni.nii.gz -Tmax /data/clusterfs/lag/projects/lg-ukbiobank/working_data/imaging_data/FLICA_multimodal/dr_stage2/ica_ifl_mni_max.nii.gz\n",
    " "
   ]
  },
  {
   "cell_type": "code",
   "execution_count": null,
   "id": "a24e4bab-9083-4a2d-bb9e-830f79b2d149",
   "metadata": {},
   "outputs": [],
   "source": [
    "mkdir -p  /data/clusterfs/lag/projects/lg-ukbiobank/working_data/imaging_data/FLICA_multimodal/flica_in/rs_mtl\n",
    "fslmerge -t /data/clusterfs/lag/projects/lg-ukbiobank/working_data/imaging_data/FLICA_multimodal/flica_in/rs_mtl/ica_mtl_mni_1.nii.gz $(cat /data/workspaces/lag/workspaces/lg-ukbiobank/projects/FLICA_multimodal/mtl_files_in_N26660.txt | head -n 10000)\n",
    "fslmerge -t /data/clusterfs/lag/projects/lg-ukbiobank/working_data/imaging_data/FLICA_multimodal/flica_in/rs_mtl/ica_mtl_mni_2.nii.gz $(cat /data/workspaces/lag/workspaces/lg-ukbiobank/projects/FLICA_multimodal/mtl_files_in_N26660.txt | head -n 20000 | tail -n 10000)\n",
    "fslmerge -t /data/clusterfs/lag/projects/lg-ukbiobank/working_data/imaging_data/FLICA_multimodal/flica_in/rs_mtl/ica_mtl_mni_3.nii.gz $(cat /data/workspaces/lag/workspaces/lg-ukbiobank/projects/FLICA_multimodal/mtl_files_in_N26660.txt | tail -n 6660)\n",
    "fslmerge -t /data/clusterfs/lag/projects/lg-ukbiobank/working_data/imaging_data/FLICA_multimodal/flica_in/rs_mtl/ica_mtl_mni.nii.gz /data/clusterfs/lag/projects/lg-ukbiobank/working_data/imaging_data/FLICA_multimodal/flica_in/rs_mtl/ica_mtl_mni_*.nii.gz \n",
    "rm /data/clusterfs/lag/projects/lg-ukbiobank/working_data/imaging_data/FLICA_multimodal/flica_in/rs_mtl/ica_mtl_mni_*.nii.gz \n",
    "\n",
    "fslmaths /data/clusterfs/lag/projects/lg-ukbiobank/working_data/imaging_data/FLICA_multimodal/flica_in/rs_mtl/ica_mtl_mni.nii.gz -Tstd /data/clusterfs/lag/projects/lg-ukbiobank/working_data/imaging_data/FLICA_multimodal/dr_stage2/ica_mtl_mni_std.nii.gz\n",
    "fslmaths /data/clusterfs/lag/projects/lg-ukbiobank/working_data/imaging_data/FLICA_multimodal/flica_in/rs_mtl/ica_mtl_mni.nii.gz -Tmean /data/clusterfs/lag/projects/lg-ukbiobank/working_data/imaging_data/FLICA_multimodal/dr_stage2/ica_mtl_mni_mean.nii.gz\n",
    "fslmaths /data/clusterfs/lag/projects/lg-ukbiobank/working_data/imaging_data/FLICA_multimodal/flica_in/rs_mtl/ica_mtl_mni.nii.gz -Tmin /data/clusterfs/lag/projects/lg-ukbiobank/working_data/imaging_data/FLICA_multimodal/dr_stage2/ica_mtl_mni_min.nii.gz\n",
    "fslmaths /data/clusterfs/lag/projects/lg-ukbiobank/working_data/imaging_data/FLICA_multimodal/flica_in/rs_mtl/ica_mtl_mni.nii.gz -Tmax /data/clusterfs/lag/projects/lg-ukbiobank/working_data/imaging_data/FLICA_multimodal/dr_stage2/ica_mtl_mni_max.nii.gz"
   ]
  },
  {
   "cell_type": "code",
   "execution_count": null,
   "id": "da0c615f-8df5-484e-a207-e0493e2e57bd",
   "metadata": {},
   "outputs": [],
   "source": [
    "mkdir -p  /data/clusterfs/lag/projects/lg-ukbiobank/working_data/imaging_data/FLICA_multimodal/flica_in/tbm\n",
    "fslmerge -t /data/clusterfs/lag/projects/lg-ukbiobank/working_data/imaging_data/FLICA_multimodal/flica_in/tbm/tbm_1.nii.gz $(cat /data/workspaces/lag/workspaces/lg-ukbiobank/projects/FLICA_multimodal/tbm_files_in_N26660.txt | head -n 10000)\n",
    "fslmerge -t /data/clusterfs/lag/projects/lg-ukbiobank/working_data/imaging_data/FLICA_multimodal/flica_in/tbm/tbm_2.nii.gz $(cat /data/workspaces/lag/workspaces/lg-ukbiobank/projects/FLICA_multimodal/tbm_files_in_N26660.txt | head -n 20000 | tail -n 10000)\n",
    "fslmerge -t /data/clusterfs/lag/projects/lg-ukbiobank/working_data/imaging_data/FLICA_multimodal/flica_in/tbm/tbm_3.nii.gz $(cat /data/workspaces/lag/workspaces/lg-ukbiobank/projects/FLICA_multimodal/tbm_files_in_N26660.txt | tail -n 6660)\n",
    "fslmerge -t /data/clusterfs/lag/projects/lg-ukbiobank/working_data/imaging_data/FLICA_multimodal/flica_in/tbm/tbm.nii.gz /data/clusterfs/lag/projects/lg-ukbiobank/working_data/imaging_data/FLICA_multimodal/flica_in/tbm/tbm_*.nii.gz\n",
    "rm /data/clusterfs/lag/projects/lg-ukbiobank/working_data/imaging_data/FLICA_multimodal/flica_in/tbm/tbm_*.nii.gz\n",
    "\n",
    "fslmaths /data/clusterfs/lag/projects/lg-ukbiobank/working_data/imaging_data/FLICA_multimodal/flica_in/tbm/tbm.nii.gz -Tstd /data/clusterfs/lag/projects/lg-ukbiobank/working_data/imaging_data/FLICA_multimodal/dr_stage2/tbm_std.nii.gz\n",
    "fslmaths /data/clusterfs/lag/projects/lg-ukbiobank/working_data/imaging_data/FLICA_multimodal/flica_in/tbm/tbm.nii.gz -Tmean /data/clusterfs/lag/projects/lg-ukbiobank/working_data/imaging_data/FLICA_multimodal/dr_stage2/tbm_mean.nii.gz\n",
    "fslmaths /data/clusterfs/lag/projects/lg-ukbiobank/working_data/imaging_data/FLICA_multimodal/flica_in/tbm/tbm.nii.gz -Tmin /data/clusterfs/lag/projects/lg-ukbiobank/working_data/imaging_data/FLICA_multimodal/dr_stage2/tbm_min.nii.gz\n",
    "fslmaths /data/clusterfs/lag/projects/lg-ukbiobank/working_data/imaging_data/FLICA_multimodal/flica_in/tbm/tbm.nii.gz -Tmax /data/clusterfs/lag/projects/lg-ukbiobank/working_data/imaging_data/FLICA_multimodal/dr_stage2/tbm_max.nii.gz"
   ]
  },
  {
   "cell_type": "code",
   "execution_count": null,
   "id": "b2dde0ab-049b-4ed6-ad6e-156600e9cd8b",
   "metadata": {},
   "outputs": [],
   "source": [
    "mkdir -p  /data/clusterfs/lag/projects/lg-ukbiobank/working_data/imaging_data/FLICA_multimodal/flica_in/dMRI\n",
    "fslmerge -t /data/clusterfs/lag/projects/lg-ukbiobank/working_data/imaging_data/FLICA_multimodal/flica_in/dMRI/dMRI_1.nii.gz $(cat /data/workspaces/lag/workspaces/lg-ukbiobank/projects/FLICA_multimodal/dmri_files_in_N26660.txt | head -n 10000)\n",
    "fslmerge -t /data/clusterfs/lag/projects/lg-ukbiobank/working_data/imaging_data/FLICA_multimodal/flica_in/dMRI/dMRI_2.nii.gz $(cat /data/workspaces/lag/workspaces/lg-ukbiobank/projects/FLICA_multimodal/dmri_files_in_N26660.txt | head -n 20000 | tail -n 10000)\n",
    "fslmerge -t /data/clusterfs/lag/projects/lg-ukbiobank/working_data/imaging_data/FLICA_multimodal/flica_in/dMRI/dMRI_3.nii.gz $(cat /data/workspaces/lag/workspaces/lg-ukbiobank/projects/FLICA_multimodal/dmri_files_in_N26660.txt | tail -n 6660)\n",
    "fslmerge -t /data/clusterfs/lag/projects/lg-ukbiobank/working_data/imaging_data/FLICA_multimodal/flica_in/dMRI/dMRI.nii.gz /data/clusterfs/lag/projects/lg-ukbiobank/working_data/imaging_data/FLICA_multimodal/flica_in/dMRI/dMRI_*.nii.gz\n",
    "rm /data/clusterfs/lag/projects/lg-ukbiobank/working_data/imaging_data/FLICA_multimodal/flica_in/dMRI/dMRI_*.nii.gz\n",
    "\n",
    "fslmaths /data/clusterfs/lag/projects/lg-ukbiobank/working_data/imaging_data/FLICA_multimodal/flica_in/dMRI/dMRI.nii.gz -Tstd /data/clusterfs/lag/projects/lg-ukbiobank/working_data/imaging_data/FLICA_multimodal/dr_stage2/dMRI_std.nii.gz\n",
    "fslmaths /data/clusterfs/lag/projects/lg-ukbiobank/working_data/imaging_data/FLICA_multimodal/flica_in/dMRI/dMRI.nii.gz-Tmean /data/clusterfs/lag/projects/lg-ukbiobank/working_data/imaging_data/FLICA_multimodal/dr_stage2/dMRI_mean.nii.gz\n",
    "fslmaths /data/clusterfs/lag/projects/lg-ukbiobank/working_data/imaging_data/FLICA_multimodal/flica_in/dMRI/dMRI.nii.gz -Tmin /data/clusterfs/lag/projects/lg-ukbiobank/working_data/imaging_data/FLICA_multimodal/dr_stage2/dMRI_min.nii.gz\n",
    "fslmaths /data/clusterfs/lag/projects/lg-ukbiobank/working_data/imaging_data/FLICA_multimodal/flica_in/dMRI/dMRI.nii.gz -Tmax /data/clusterfs/lag/projects/lg-ukbiobank/working_data/imaging_data/FLICA_multimodal/dr_stage2/dMRI_max.nii.gz"
   ]
  }
 ],
 "metadata": {
  "kernelspec": {
   "display_name": "Python [conda env:congrads]",
   "language": "python",
   "name": "conda-env-congrads-py"
  },
  "language_info": {
   "codemirror_mode": {
    "name": "ipython",
    "version": 3
   },
   "file_extension": ".py",
   "mimetype": "text/x-python",
   "name": "python",
   "nbconvert_exporter": "python",
   "pygments_lexer": "ipython3",
   "version": "3.12.0"
  }
 },
 "nbformat": 4,
 "nbformat_minor": 5
}
