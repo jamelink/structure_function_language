{
 "cells": [
  {
   "cell_type": "markdown",
   "id": "f67b57cd-7f33-42ea-b86f-746824885fd8",
   "metadata": {},
   "source": [
    "# Geno prep\n",
    "1. Separate binary and quanntitative covs\n",
    "2. Residualize and quantile transform phenos"
   ]
  },
  {
   "cell_type": "code",
   "execution_count": 1,
   "id": "fb307391-7603-4424-8ac5-f5b6ecbf9469",
   "metadata": {},
   "outputs": [],
   "source": [
    "import pandas as pd\n",
    "import os\n",
    "import statsmodels.api as sm\n",
    "from sklearn.preprocessing import quantile_transform\n",
    "import numpy as np\n",
    "\n",
    "workspace_path = \"/data/workspaces/lag/workspaces/lg-ukbiobank/projects/FLICA_multimodal/\"\n",
    "cfs_path = \"/data/clusterfs/lag/users/jitame/FLICA/pheno\""
   ]
  },
  {
   "cell_type": "code",
   "execution_count": 2,
   "id": "2ffce070-efcc-4244-9e16-a64c7646bbc7",
   "metadata": {},
   "outputs": [],
   "source": [
    "covs = pd.read_csv(os.path.join(workspace_path, \"regenie_covariates_50k.tsv\"), sep=\"\\t\")\n",
    "covs.dropna(axis=1, how=\"all\", inplace=True)\n",
    "covs.dropna(axis=0, how=\"any\", inplace=True)\n",
    "\n",
    "binary_covs = [\"Genetic_sex\", \"geno_array_dummy\", \"site_dummy_11025\", \"site_dummy_11026\", \"site_dummy_11027\"]\n",
    "for cov in binary_covs[2:]:\n",
    "    covs[cov] = covs[cov].astype(int)\n",
    "covs[covs.columns[:-1]].to_csv(os.path.join(workspace_path, \"regenie_final_covs_32k.tsv\"), sep=\"\\t\", header=True, index=False)\n",
    "covs[[\"FID\", \"IID\"] + binary_covs].to_csv(os.path.join(workspace_path, \"gcta_binary_covs_32k.tsv\"), sep=\"\\t\", header=False, index=False)\n",
    "\n",
    "covs.drop(binary_covs+[\"site_dummy_11028\"], axis=1).to_csv(os.path.join(workspace_path, \"gcta_qcovs_32k.tsv\"), sep=\"\\t\", header=False, index=False)\n",
    "\n",
    "covs = covs.drop([\"site_dummy_11028\"], axis=1)"
   ]
  },
  {
   "cell_type": "code",
   "execution_count": 3,
   "id": "dcfaa3fd-b75a-4a99-a93e-9a0b5fc2dc30",
   "metadata": {},
   "outputs": [
    {
     "data": {
      "text/plain": [
       "(33363, 31)"
      ]
     },
     "execution_count": 3,
     "metadata": {},
     "output_type": "execute_result"
    }
   ],
   "source": [
    "covs.shape"
   ]
  },
  {
   "cell_type": "code",
   "execution_count": 4,
   "id": "3a367fc0-7f83-4806-9281-dfe29262a517",
   "metadata": {},
   "outputs": [],
   "source": [
    "data = pd.read_csv(os.path.join(cfs_path, \"rs_ics_32k_gcta_N32677.tsv\"), sep=\"\\t\")"
   ]
  },
  {
   "cell_type": "code",
   "execution_count": 6,
   "id": "cb098fb7-c309-4328-b879-744b0e071a88",
   "metadata": {},
   "outputs": [
    {
     "data": {
      "text/html": [
       "<div>\n",
       "<style scoped>\n",
       "    .dataframe tbody tr th:only-of-type {\n",
       "        vertical-align: middle;\n",
       "    }\n",
       "\n",
       "    .dataframe tbody tr th {\n",
       "        vertical-align: top;\n",
       "    }\n",
       "\n",
       "    .dataframe thead th {\n",
       "        text-align: right;\n",
       "    }\n",
       "</style>\n",
       "<table border=\"1\" class=\"dataframe\">\n",
       "  <thead>\n",
       "    <tr style=\"text-align: right;\">\n",
       "      <th></th>\n",
       "      <th>FID</th>\n",
       "      <th>IID</th>\n",
       "      <th>5c_c2</th>\n",
       "      <th>10c_c4</th>\n",
       "    </tr>\n",
       "  </thead>\n",
       "  <tbody>\n",
       "    <tr>\n",
       "      <th>0</th>\n",
       "      <td>1000099</td>\n",
       "      <td>1000099</td>\n",
       "      <td>-1.261045</td>\n",
       "      <td>-0.417428</td>\n",
       "    </tr>\n",
       "    <tr>\n",
       "      <th>1</th>\n",
       "      <td>1000192</td>\n",
       "      <td>1000192</td>\n",
       "      <td>-0.253847</td>\n",
       "      <td>-0.649029</td>\n",
       "    </tr>\n",
       "    <tr>\n",
       "      <th>2</th>\n",
       "      <td>1000256</td>\n",
       "      <td>1000256</td>\n",
       "      <td>1.908976</td>\n",
       "      <td>0.522966</td>\n",
       "    </tr>\n",
       "    <tr>\n",
       "      <th>3</th>\n",
       "      <td>1000281</td>\n",
       "      <td>1000281</td>\n",
       "      <td>0.765793</td>\n",
       "      <td>0.949243</td>\n",
       "    </tr>\n",
       "    <tr>\n",
       "      <th>4</th>\n",
       "      <td>1000330</td>\n",
       "      <td>1000330</td>\n",
       "      <td>-0.550069</td>\n",
       "      <td>0.518803</td>\n",
       "    </tr>\n",
       "  </tbody>\n",
       "</table>\n",
       "</div>"
      ],
      "text/plain": [
       "       FID      IID     5c_c2    10c_c4\n",
       "0  1000099  1000099 -1.261045 -0.417428\n",
       "1  1000192  1000192 -0.253847 -0.649029\n",
       "2  1000256  1000256  1.908976  0.522966\n",
       "3  1000281  1000281  0.765793  0.949243\n",
       "4  1000330  1000330 -0.550069  0.518803"
      ]
     },
     "execution_count": 6,
     "metadata": {},
     "output_type": "execute_result"
    }
   ],
   "source": [
    "data.head()"
   ]
  },
  {
   "cell_type": "code",
   "execution_count": 7,
   "id": "524af4f0-45f3-4199-9c3d-9814ed7badaa",
   "metadata": {},
   "outputs": [],
   "source": [
    "def save_df(data, file_name):\n",
    "    #reorder and save\n",
    "    initial_cols = data.columns\n",
    "    data['FID'] = data.index.values.astype(int)\n",
    "    data['IID'] = data.index.values.astype(int)\n",
    "    data = data[['FID', 'IID', *initial_cols]]\n",
    "    data.to_csv(file_name.format(len(data)), na_rep=\"NA\", sep=\"\\t\", index=False, header=True)\n",
    "\n",
    "def residualize(data, covs, fn_out):\n",
    "\n",
    "    #set up files\n",
    "    subs = sorted(list(set(data[\"FID\"]) & set(covs[\"FID\"])))\n",
    "    print(\"Number of subs in both files: {}\".format(len(subs)))\n",
    "    \n",
    "    data.set_index([\"FID\"], inplace=True)\n",
    "    covs.set_index([\"FID\"], inplace=True)\n",
    "    data = data.loc[subs]\n",
    "    covs = covs.loc[subs]\n",
    "    data.drop([\"IID\"], axis=1, inplace=True)\n",
    "    covs.drop([\"IID\"], axis=1, inplace=True)\n",
    "\n",
    "    print(\"Residualizing...\")\n",
    "    #define new dataframe\n",
    "    data_new=pd.DataFrame(index=data.index.values)\n",
    "\n",
    "        #residualize\n",
    "    for dep_var in data.columns: \n",
    "        na_bool = data[dep_var].isna()\n",
    "        data_in = data.loc[~na_bool, dep_var]\n",
    "        covs_in = covs.loc[~na_bool, :]\n",
    "        model = sm.OLS(data_in, exog=covs_in)\n",
    "        results = model.fit()\n",
    "        df_residualized = pd.DataFrame(data=results.resid, index=data_in.index, columns=[dep_var])\n",
    "        data_new = data_new.join(df_residualized)\n",
    "        print(data_new.shape)\n",
    "    \n",
    "    print(\"Quantile transform...\")\n",
    "    #quantile transformation\n",
    "    X = data_new.to_numpy()\n",
    "    data_new2 = pd.DataFrame(data=quantile_transform(X, n_quantiles=1000, output_distribution='normal', random_state=0, copy=True),\n",
    "                             columns=data_new.columns,\n",
    "                             index=data_new.index.values)\n",
    "    \n",
    "    print(\"Saving results...\")\n",
    "    save_df(data = data_new,\n",
    "            file_name=fn_out[:-4]+\"_resid_N{}.tsv\".format(len(data_new)))\n",
    "    save_df(data = data_new2,\n",
    "            file_name=fn_out[:-4]+\"_resid_norm_N{}.tsv\".format(len(data_new2)))\n",
    "    print(\"Done!\")      \n"
   ]
  },
  {
   "cell_type": "code",
   "execution_count": 8,
   "id": "3e1da090-6454-49da-88c2-aae37b7768bf",
   "metadata": {},
   "outputs": [
    {
     "name": "stdout",
     "output_type": "stream",
     "text": [
      "Number of subs in both files: 32661\n",
      "Residualizing...\n",
      "(32661, 1)\n",
      "(32661, 2)\n",
      "Quantile transform...\n",
      "Saving results...\n",
      "Done!\n"
     ]
    }
   ],
   "source": [
    "residualize(data, covs, os.path.join(cfs_path, \"rs_ics_32k_gcta_N32677.tsv\"))"
   ]
  },
  {
   "cell_type": "code",
   "execution_count": 6,
   "id": "3b2c2303-949d-46a2-ae1e-ff205b9f28b4",
   "metadata": {},
   "outputs": [],
   "source": [
    "subs = sorted(list(set(data[\"FID\"]) & set(covs[\"FID\"])))\n",
    "data.loc[subs, ['FID', 'FID']].to_csv(os.path.join(cfs_path, \"subs_list_FID_IID_N{}.txt\".format(len(data))), sep=\"\\t\", header=False, index=False)"
   ]
  },
  {
   "cell_type": "code",
   "execution_count": 11,
   "id": "1c803621-2a8c-4e24-a2f6-879b37493f5f",
   "metadata": {},
   "outputs": [],
   "source": [
    "from shutil import copy2\n",
    "cov_files = [\"regenie_final_covs_32k.tsv\", \"gcta_binary_covs_32k.tsv\", \"gcta_qcovs_32k.tsv\"]\n",
    "for fn in cov_files:\n",
    "    copy2(os.path.join(workspace_path, fn), os.path.join(cfs_path, fn))"
   ]
  },
  {
   "cell_type": "code",
   "execution_count": null,
   "id": "9b0a9ddf-6c00-424c-adc6-601a574fc92b",
   "metadata": {},
   "outputs": [],
   "source": []
  }
 ],
 "metadata": {
  "kernelspec": {
   "display_name": "Python 3",
   "language": "python",
   "name": "python3"
  },
  "language_info": {
   "codemirror_mode": {
    "name": "ipython",
    "version": 3
   },
   "file_extension": ".py",
   "mimetype": "text/x-python",
   "name": "python",
   "nbconvert_exporter": "python",
   "pygments_lexer": "ipython3",
   "version": "3.8.8"
  }
 },
 "nbformat": 4,
 "nbformat_minor": 5
}
