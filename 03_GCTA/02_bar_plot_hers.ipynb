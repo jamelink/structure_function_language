{
 "cells": [
  {
   "cell_type": "markdown",
   "metadata": {},
   "source": [
    "# Plot heritabilities\n",
    "\n",
    "- Read heritabilities\n",
    "- Plot heritabilities with bar\n",
    "\n",
    "Last edit: Amelink, J.S, 2024-11-29"
   ]
  },
  {
   "cell_type": "code",
   "execution_count": 1,
   "metadata": {},
   "outputs": [
    {
     "name": "stderr",
     "output_type": "stream",
     "text": [
      "<frozen importlib._bootstrap>:228: RuntimeWarning: scipy._lib.messagestream.MessageStream size changed, may indicate binary incompatibility. Expected 56 from C header, got 64 from PyObject\n"
     ]
    }
   ],
   "source": [
    "import pandas as pd\n",
    "import numpy as np\n",
    "import seaborn as sns\n",
    "import matplotlib.pyplot as plt\n",
    "\n",
    "workspace_path = \"/data/workspaces/lag/workspaces/lg-ukbiobank/projects/FLICA_multimodal/\"\n",
    "cfs_path = \"/data/clusterfs/lag/projects/lg-ukbiobank/working_data/imaging_data/FLICA_multimodal/\""
   ]
  },
  {
   "cell_type": "code",
   "execution_count": 30,
   "metadata": {},
   "outputs": [],
   "source": [
    "def get_hers(base_fn, phenos):\n",
    "    \n",
    "    no_phenos = len(phenos)\n",
    "\n",
    "        #Get data\n",
    "    all_hers = pd.DataFrame(index=phenos, columns=[\"Vg\", \"Vg_SE\", \"Ve\", \"Ve_SE\", \"logL\", \"P\"], dtype=np.float64)\n",
    "    for i in range(no_phenos):\n",
    "        data = pd.read_csv(base_fn.format(i+1), sep=\"\\t\", float_precision='high')\n",
    "            \n",
    "        all_hers.loc[phenos[i], \"Vg\"] = data[\"Variance\"][0]\n",
    "        all_hers.loc[phenos[i], \"Vg_SE\"] = data[\"SE\"][0]\n",
    "        all_hers.loc[phenos[i], \"Ve\"] = data[\"Variance\"][1]\n",
    "        all_hers.loc[phenos[i], \"Ve_SE\"] = data[\"SE\"][1]\n",
    "        all_hers.loc[phenos[i], \"logL\"] = data[\"Variance\"][4]\n",
    "        all_hers.loc[phenos[i], \"P\"] = data[\"Variance\"][8]\n",
    "    return all_hers\n",
    "\n",
    "def plot_hers(df, fn=None, custom_labels=None):\n",
    "    plt.figure(figsize=(4, 5))\n",
    "    bars = plt.bar(x=df.index.values, height=df['Vg'], yerr=df['Vg_SE'], capsize=5)\n",
    "\n",
    "    plt.xlabel('Phenotype')\n",
    "    plt.ylabel('Heritability')\n",
    "    plt.title('Heritability multimodal components')\n",
    "              \n",
    "    if custom_labels:\n",
    "        plt.xticks(ticks=range(len(custom_labels)), labels=custom_labels, rotation=45, ha='right', fontsize=12)\n",
    "    else:\n",
    "        plt.xticks(rotation=90, fontsize=12)\n",
    "    \n",
    "    plt.tight_layout()\n",
    "    ax = plt.gca()\n",
    "    ax.spines[['right', 'top']].set_visible(False)\n",
    "    plt.show()\n",
    "    \n",
    "    if fn:\n",
    "        plt.savefig(fn, dpi=300)"
   ]
  },
  {
   "cell_type": "code",
   "execution_count": 27,
   "metadata": {},
   "outputs": [],
   "source": [
    "hers = get_hers(base_fn=\"/data/clusterfs/lag/users/jitame/FLICA/geno/gcta/flica_32k_new_{}.hsq\",\n",
    "                phenos=[\"5c_c4\", \"10c_c6\", \"10cR_c2\"])"
   ]
  },
  {
   "cell_type": "code",
   "execution_count": 28,
   "metadata": {},
   "outputs": [
    {
     "data": {
      "text/html": [
       "<div>\n",
       "<style scoped>\n",
       "    .dataframe tbody tr th:only-of-type {\n",
       "        vertical-align: middle;\n",
       "    }\n",
       "\n",
       "    .dataframe tbody tr th {\n",
       "        vertical-align: top;\n",
       "    }\n",
       "\n",
       "    .dataframe thead th {\n",
       "        text-align: right;\n",
       "    }\n",
       "</style>\n",
       "<table border=\"1\" class=\"dataframe\">\n",
       "  <thead>\n",
       "    <tr style=\"text-align: right;\">\n",
       "      <th></th>\n",
       "      <th>Vg</th>\n",
       "      <th>Vg_SE</th>\n",
       "      <th>Ve</th>\n",
       "      <th>Ve_SE</th>\n",
       "      <th>logL</th>\n",
       "      <th>P</th>\n",
       "    </tr>\n",
       "  </thead>\n",
       "  <tbody>\n",
       "    <tr>\n",
       "      <th>5c_c4</th>\n",
       "      <td>0.294293</td>\n",
       "      <td>0.013900</td>\n",
       "      <td>0.706096</td>\n",
       "      <td>0.013224</td>\n",
       "      <td>-16012.004</td>\n",
       "      <td>0.0</td>\n",
       "    </tr>\n",
       "    <tr>\n",
       "      <th>10c_c6</th>\n",
       "      <td>0.255415</td>\n",
       "      <td>0.013531</td>\n",
       "      <td>0.743949</td>\n",
       "      <td>0.013253</td>\n",
       "      <td>-16071.456</td>\n",
       "      <td>0.0</td>\n",
       "    </tr>\n",
       "    <tr>\n",
       "      <th>10cR_c2</th>\n",
       "      <td>0.255447</td>\n",
       "      <td>0.013532</td>\n",
       "      <td>0.744004</td>\n",
       "      <td>0.013254</td>\n",
       "      <td>-16072.871</td>\n",
       "      <td>0.0</td>\n",
       "    </tr>\n",
       "  </tbody>\n",
       "</table>\n",
       "</div>"
      ],
      "text/plain": [
       "               Vg     Vg_SE        Ve     Ve_SE       logL    P\n",
       "5c_c4    0.294293  0.013900  0.706096  0.013224 -16012.004  0.0\n",
       "10c_c6   0.255415  0.013531  0.743949  0.013253 -16071.456  0.0\n",
       "10cR_c2  0.255447  0.013532  0.744004  0.013254 -16072.871  0.0"
      ]
     },
     "execution_count": 28,
     "metadata": {},
     "output_type": "execute_result"
    }
   ],
   "source": [
    "hers.head()"
   ]
  },
  {
   "cell_type": "code",
   "execution_count": 33,
   "metadata": {},
   "outputs": [
    {
     "data": {
      "image/png": "[encoded data removed]",
      "text/plain": [
       "<Figure size 400x500 with 1 Axes>"
      ]
     },
     "metadata": {},
     "output_type": "display_data"
    },
    {
     "data": {
      "text/plain": [
       "<Figure size 640x480 with 0 Axes>"
      ]
     },
     "metadata": {},
     "output_type": "display_data"
    }
   ],
   "source": [
    "plot_hers(hers.iloc[:2,:], fn=\"/data/workspaces/lag/workspaces/lg-ukbiobank/projects/FLICA_multimodal/results/her_bar.png\")"
   ]
  },
  {
   "cell_type": "code",
   "execution_count": null,
   "metadata": {},
   "outputs": [],
   "source": []
  }
 ],
 "metadata": {
  "kernelspec": {
   "display_name": "Python 3 (ipykernel)",
   "language": "python",
   "name": "python3"
  },
  "language_info": {
   "codemirror_mode": {
    "name": "ipython",
    "version": 3
   },
   "file_extension": ".py",
   "mimetype": "text/x-python",
   "name": "python",
   "nbconvert_exporter": "python",
   "pygments_lexer": "ipython3",
   "version": "3.9.18"
  }
 },
 "nbformat": 4,
 "nbformat_minor": 4
}
